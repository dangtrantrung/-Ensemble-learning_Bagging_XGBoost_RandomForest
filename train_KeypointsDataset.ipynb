{
  "metadata": {
    "colab": {
      "provenance": [],
      "gpuType": "T4",
      "name": "train_KeypointsDataset",
      "include_colab_link": true
    },
    "kernelspec": {
      "name": "python3",
      "display_name": "Python 3",
      "language": "python"
    },
    "language_info": {
      "name": "python",
      "version": "3.10.13",
      "mimetype": "text/x-python",
      "codemirror_mode": {
        "name": "ipython",
        "version": 3
      },
      "pygments_lexer": "ipython3",
      "nbconvert_exporter": "python",
      "file_extension": ".py"
    },
    "accelerator": "GPU",
    "kaggle": {
      "accelerator": "gpu",
      "dataSources": [
        {
          "sourceId": 1480608,
          "sourceType": "datasetVersion",
          "datasetId": 829369
        },
        {
          "sourceId": 7934410,
          "sourceType": "datasetVersion",
          "datasetId": 4664047
        },
        {
          "sourceId": 7934517,
          "sourceType": "datasetVersion",
          "datasetId": 4664120
        }
      ],
      "dockerImageVersionId": 30648,
      "isInternetEnabled": true,
      "language": "python",
      "sourceType": "notebook",
      "isGpuEnabled": true
    }
  },
  "nbformat_minor": 0,
  "nbformat": 4,
  "cells": [
    {
      "cell_type": "markdown",
      "metadata": {
        "id": "view-in-github",
        "colab_type": "text"
      },
      "source": [
        "<a href=\"https://colab.research.google.com/github/dangtrantrung/-Ensemble-learning_Bagging_XGBoost_RandomForest/blob/master/train_KeypointsDataset.ipynb\" target=\"_parent\"><img src=\"https://colab.research.google.com/assets/colab-badge.svg\" alt=\"Open In Colab\"/></a>"
      ]
    },
    {
      "source": [
        "\n",
        "# IMPORTANT: RUN THIS CELL IN ORDER TO IMPORT YOUR KAGGLE DATA SOURCES\n",
        "# TO THE CORRECT LOCATION (/kaggle/input) IN YOUR NOTEBOOK,\n",
        "# THEN FEEL FREE TO DELETE THIS CELL.\n",
        "# NOTE: THIS NOTEBOOK ENVIRONMENT DIFFERS FROM KAGGLE'S PYTHON\n",
        "# ENVIRONMENT SO THERE MAY BE MISSING LIBRARIES USED BY YOUR\n",
        "# NOTEBOOK.\n",
        "\n",
        "import os\n",
        "import sys\n",
        "from tempfile import NamedTemporaryFile\n",
        "from urllib.request import urlopen\n",
        "from urllib.parse import unquote, urlparse\n",
        "from urllib.error import HTTPError\n",
        "from zipfile import ZipFile\n",
        "import tarfile\n",
        "import shutil\n",
        "\n",
        "CHUNK_SIZE = 40960\n",
        "DATA_SOURCE_MAPPING = 'dl-course-data:https%3A%2F%2Fstorage.googleapis.com%2Fkaggle-data-sets%2F829369%2F1480608%2Fbundle%2Farchive.zip%3FX-Goog-Algorithm%3DGOOG4-RSA-SHA256%26X-Goog-Credential%3Dgcp-kaggle-com%2540kaggle-161607.iam.gserviceaccount.com%252F20240326%252Fauto%252Fstorage%252Fgoog4_request%26X-Goog-Date%3D20240326T082326Z%26X-Goog-Expires%3D259200%26X-Goog-SignedHeaders%3Dhost%26X-Goog-Signature%3D21322021049971b47c53535e99039d98d768612789d06b17ca44637ab9f21697db6746045da716d7cdab5c55c5e2a79af048d5b1fa7872e3cf4eb8aa75734919b6d659205cbb6bfd93c1182a0e255ce8200ff1f4eb236093b5086ce4f1d7b5283dda4faae23f5a1383e0a973e4f662ff8562a907e5f84e31dc8a10cd200b90fcda5b5ef8823c13e627f7368def829115c82175314d4d142026fdb31c06a1b1ea98b38eafd4ee0b6b81ccaf9e6e05adf0326a02af041a558c45f00b54fc4d7288a716d9fce318a398498852253c014080817975cc0f5a8976898e66a3cade20a3b7da334fdec24ed59122e02c08a4f34df82fc24972a4a9c8b738bbd9ff22da54,dataset:https%3A%2F%2Fstorage.googleapis.com%2Fkaggle-data-sets%2F4664047%2F7934410%2Fbundle%2Farchive.zip%3FX-Goog-Algorithm%3DGOOG4-RSA-SHA256%26X-Goog-Credential%3Dgcp-kaggle-com%2540kaggle-161607.iam.gserviceaccount.com%252F20240326%252Fauto%252Fstorage%252Fgoog4_request%26X-Goog-Date%3D20240326T082326Z%26X-Goog-Expires%3D259200%26X-Goog-SignedHeaders%3Dhost%26X-Goog-Signature%3D48301422978697b807a4a7afad62fe1168adb2d17361b1dcd1db0c127b00879b049f2162d40a819c36d6536f983d6b0af1609c03fa831ecfe42cf1b299c0791ee6b73704ccec9cb1bba7cf06708bc39b3aa1d6677425eae1aa111e617b6a9d1687d75a904a1d32120aa4933c4828ff3d5392a104ed876970c0b3ac713989c69d08f9ce534cfb32ad5ab87576a92f1b5bd2a1ea173f19861ad057e37188e65f6cec86c06516aa6f6db8afc71158c0e5ed4d51b800244cf28719a0237bd603cce0580e4a2a4d7730313f75a2ba6ccadbd76b50a33c4464c847dc6433fbc25a7f3a501a165752bbd41d7991cfa123f9dabe18c325807197f7cc345e30665246926a,model123:https%3A%2F%2Fstorage.googleapis.com%2Fkaggle-data-sets%2F4664120%2F7934517%2Fbundle%2Farchive.zip%3FX-Goog-Algorithm%3DGOOG4-RSA-SHA256%26X-Goog-Credential%3Dgcp-kaggle-com%2540kaggle-161607.iam.gserviceaccount.com%252F20240326%252Fauto%252Fstorage%252Fgoog4_request%26X-Goog-Date%3D20240326T082326Z%26X-Goog-Expires%3D259200%26X-Goog-SignedHeaders%3Dhost%26X-Goog-Signature%3D7860889b0abc6a7a1486978e9512de512fcd233000ddcb2c8fc49019b600235485551ba5092717972eb5d44c8d73379be4d2d74f759ec2261517d08771ff5dee2db8bbe291f447a661c40fa10a5ee006e3ba29215cf9c7fa4b57ba704b07f97c6db62854ebc090f4657d52d8e903bcfe9b46fdea15d3cc3729db9feaaddd5449f74e9a22b426e3f7496055f500809364138e28b5baf6a4ee31d87d5846f3e0b66bc3274a9a512eb925f89e684ee5f7aa8c642a7cbacb513973eff9e2a5cbf8b54c001e7694b1ca5fc5136455f1907d07dda7702e7d5fd97cd3fea3c8e9adaeb6dcaea86f1c691d88ffc42250f6759eef4a7a180ed24773f3efb87b12072c74b6'\n",
        "\n",
        "KAGGLE_INPUT_PATH='/kaggle/input'\n",
        "KAGGLE_WORKING_PATH='/kaggle/working'\n",
        "KAGGLE_SYMLINK='kaggle'\n",
        "\n",
        "!umount /kaggle/input/ 2> /dev/null\n",
        "shutil.rmtree('/kaggle/input', ignore_errors=True)\n",
        "os.makedirs(KAGGLE_INPUT_PATH, 0o777, exist_ok=True)\n",
        "os.makedirs(KAGGLE_WORKING_PATH, 0o777, exist_ok=True)\n",
        "\n",
        "try:\n",
        "  os.symlink(KAGGLE_INPUT_PATH, os.path.join(\"..\", 'input'), target_is_directory=True)\n",
        "except FileExistsError:\n",
        "  pass\n",
        "try:\n",
        "  os.symlink(KAGGLE_WORKING_PATH, os.path.join(\"..\", 'working'), target_is_directory=True)\n",
        "except FileExistsError:\n",
        "  pass\n",
        "\n",
        "for data_source_mapping in DATA_SOURCE_MAPPING.split(','):\n",
        "    directory, download_url_encoded = data_source_mapping.split(':')\n",
        "    download_url = unquote(download_url_encoded)\n",
        "    filename = urlparse(download_url).path\n",
        "    destination_path = os.path.join(KAGGLE_INPUT_PATH, directory)\n",
        "    try:\n",
        "        with urlopen(download_url) as fileres, NamedTemporaryFile() as tfile:\n",
        "            total_length = fileres.headers['content-length']\n",
        "            print(f'Downloading {directory}, {total_length} bytes compressed')\n",
        "            dl = 0\n",
        "            data = fileres.read(CHUNK_SIZE)\n",
        "            while len(data) > 0:\n",
        "                dl += len(data)\n",
        "                tfile.write(data)\n",
        "                done = int(50 * dl / int(total_length))\n",
        "                sys.stdout.write(f\"\\r[{'=' * done}{' ' * (50-done)}] {dl} bytes downloaded\")\n",
        "                sys.stdout.flush()\n",
        "                data = fileres.read(CHUNK_SIZE)\n",
        "            if filename.endswith('.zip'):\n",
        "              with ZipFile(tfile) as zfile:\n",
        "                zfile.extractall(destination_path)\n",
        "            else:\n",
        "              with tarfile.open(tfile.name) as tarfile:\n",
        "                tarfile.extractall(destination_path)\n",
        "            print(f'\\nDownloaded and uncompressed: {directory}')\n",
        "    except HTTPError as e:\n",
        "        print(f'Failed to load (likely expired) {download_url} to path {destination_path}')\n",
        "        continue\n",
        "    except OSError as e:\n",
        "        print(f'Failed to load {download_url} to path {destination_path}')\n",
        "        continue\n",
        "\n",
        "print('Data source import complete.')\n"
      ],
      "metadata": {
        "colab": {
          "base_uri": "https://localhost:8080/"
        },
        "id": "4k3DxWMnz2uu",
        "outputId": "ff052c8c-56dc-4ba5-dfd8-8b9a1897d0b8"
      },
      "cell_type": "code",
      "outputs": [
        {
          "output_type": "stream",
          "name": "stdout",
          "text": [
            "Downloading dl-course-data, 242157006 bytes compressed\n",
            "[==================================================] 242157006 bytes downloaded\n",
            "Downloaded and uncompressed: dl-course-data\n",
            "Downloading dataset, 7238138717 bytes compressed\n",
            "[==================================================] 7238138717 bytes downloaded\n",
            "Downloaded and uncompressed: dataset\n",
            "Downloading model123, 95175350 bytes compressed\n",
            "[==================================================] 95175350 bytes downloaded\n",
            "Downloaded and uncompressed: model123\n",
            "Data source import complete.\n"
          ]
        }
      ],
      "execution_count": 1
    },
    {
      "cell_type": "markdown",
      "source": [
        "<a href=\"https://colab.research.google.com/github/dangtrantrung/Build-an-AI-ML-Tennis-Analysis-system-with-YOLO-PyTorch-and-Key-Point-Extraction/blob/master/Train_keypoint_model_Resnet50.ipynb\" target=\"_parent\"><img src=\"https://colab.research.google.com/assets/colab-badge.svg\" alt=\"Open In Colab\"/></a>"
      ],
      "metadata": {
        "id": "view-in-github"
      }
    },
    {
      "cell_type": "code",
      "source": [
        "# !wget --header=\"Host: drive.usercontent.google.com\" --header=\"User-Agent: Mozilla/5.0 (Windows NT 10.0; Win64; x64) AppleWebKit/537.36 (KHTML, like Gecko) Chrome/121.0.0.0 Safari/537.36\" --header=\"Accept: text/html,application/xhtml+xml,application/xml;q=0.9,image/avif,image/webp,image/apng,*/*;q=0.8,application/signed-exchange;v=b3;q=0.7\" --header=\"Accept-Language: en-US,en;q=0.9,ar;q=0.8\" --header=\"Cookie: HSID=Ag2OIHvsd2Wub4C7z; SSID=AWnBcQKwDHiTrZAU1; APISID=pltrFZgE9lJ0o1gq/AN9feEHYvs8oHd519; SAPISID=zgF45F21ZPWzYWZw/AgUMJ8b7QQXuWGn19; __Secure-1PAPISID=zgF45F21ZPWzYWZw/AgUMJ8b7QQXuWGn19; __Secure-3PAPISID=zgF45F21ZPWzYWZw/AgUMJ8b7QQXuWGn19; SID=g.a000fwgYx1PcnW-rFyFhg3x6mQHzCrwXz-KFhoOLogUl7YTWI-uttBbVDRolhF-hY16nwHXw0gACgYKAWISAQASFQHGX2MivNTw_E_toJuIRy6LMpKNOBoVAUF8yKpFSmvq7AMjvEWeNc50Zff40076; __Secure-1PSID=g.a000fwgYx1PcnW-rFyFhg3x6mQHzCrwXz-KFhoOLogUl7YTWI-utbSY2jBY1VXuw8gYl5hIO2QACgYKAXsSAQASFQHGX2MihVCJ1PwLozGqZgdSatM9QhoVAUF8yKpgrsTvI8i_UE-YHpoN7Gx-0076; __Secure-3PSID=g.a000fwgYx1PcnW-rFyFhg3x6mQHzCrwXz-KFhoOLogUl7YTWI-utwVfPl2imdPimZJ9tdDZGQAACgYKAUESAQASFQHGX2MiEJ49mV4jME2kttDAV5hwWBoVAUF8yKp80mIgju1lu-q4nI7VsFDM0076; NID=511=efI9IZpxtyJ7Dw1MAUXU8FlzS5jXGewY4Er8HliWc3A0RSWdgvNDyKY66ETjgRyTGWPbWODSmiSeYSBab5SPHVwqbJxd6ZeGW2f6BkHi61UKksXPH0CVJRM1hKpMjHPU5qw7tboM2Mi87NrosV8COB-GCLulLLbjOoSAEQewTe8NVZ5Owq8IkwvxFGfJkmUKEMkFWrw9yb5nTDl3wbZEsGFI92iEdNTSxSRovNCIPN2US-SCFdQ0m2BtvwdiWZbgnn7dSQ8yPA145Kk2BA-ATpJNJ6SJHEHLQY-9CPail9D5qgJgxR925EUg5RGCpEu9wS5xbA62KTa19wAvbAq7Dk3TWc-iX4p1s7ESFyDC7yMpFxiFPJjqkWwFi_ZfiK2TW2t0TQ60DFBxqOytQaLyHrkEvD-CQPVj6OCOP22cZY0Cu61HaAQgFO9pXH-kJUlywzVdbirJumN5gswyaQ49b3KdLcG0Jb7brOMTM24T2nGtQ10hJzsnTwX7dBk3ujqQrI_DGuURvPassPUrIZ0; AEC=Ae3NU9MOEGeKAZjP6INpOYbyMraWAWztmx5pJB_1ILu1furiTy1K37k15u0; __Secure-1PSIDTS=sidts-CjEBYfD7Z9twEKTWJ9gU7KG-rLbxJGNRQIoG3wH6JVu6yiCC2fsRrm7tN8L6d5WlILrnEAA; __Secure-3PSIDTS=sidts-CjEBYfD7Z9twEKTWJ9gU7KG-rLbxJGNRQIoG3wH6JVu6yiCC2fsRrm7tN8L6d5WlILrnEAA; 1P_JAR=2024-02-18-08; SIDCC=ABTWhQExCxkfmwCkG1RaEgz8U1ZkPeh3HmLMUdMt8S5cNSsLY5U5rAL6wlvq7dtjRw7zrtAbqsFI; __Secure-1PSIDCC=ABTWhQH0jLeRIS6Tu3LS8DXB5Q3gGDq9LTmlk60FKu795Bf0UbzsOcYWVAE96clq5aAL8i724Q0; __Secure-3PSIDCC=ABTWhQHIFcyv3nZYwp78WXEQal71jCE_ZsGT5lXs8VLr7XDIfFqHcLTIPz4HxzJb9ZnYQ5l2s9eU\" --header=\"Connection: keep-alive\" \"https://drive.usercontent.google.com/download?id=1lhAaeQCmk2y440PmagA0KmIVBIysVMwu&export=download&authuser=0&confirm=t&uuid=3077628e-fc9b-4ef2-8cde-b291040afb30&at=APZUnTU9lSikCSe3NqbxV5MVad5T%3A1708243355040\" -c -O 'tennis_court_det_dataset.zip'"
      ],
      "metadata": {
        "id": "0Gq0SUEgu_Ho",
        "execution": {
          "iopub.status.busy": "2024-03-26T05:30:02.596471Z",
          "iopub.execute_input": "2024-03-26T05:30:02.596828Z",
          "iopub.status.idle": "2024-03-26T05:30:02.603371Z",
          "shell.execute_reply.started": "2024-03-26T05:30:02.596794Z",
          "shell.execute_reply": "2024-03-26T05:30:02.602366Z"
        },
        "trusted": true
      },
      "execution_count": 2,
      "outputs": []
    },
    {
      "cell_type": "markdown",
      "source": [
        "# unzip large dataset"
      ],
      "metadata": {
        "id": "vTBmj09yz2u0"
      }
    },
    {
      "cell_type": "code",
      "source": [
        "#!unzip dataset.zip"
      ],
      "metadata": {
        "id": "zl5QW-zXvsYc",
        "execution": {
          "iopub.status.busy": "2024-03-26T05:30:02.605062Z",
          "iopub.execute_input": "2024-03-26T05:30:02.605325Z",
          "iopub.status.idle": "2024-03-26T05:30:02.618431Z",
          "shell.execute_reply.started": "2024-03-26T05:30:02.605303Z",
          "shell.execute_reply": "2024-03-26T05:30:02.61761Z"
        },
        "trusted": true
      },
      "execution_count": 3,
      "outputs": []
    },
    {
      "cell_type": "code",
      "source": [
        "import torch\n",
        "from torch.utils.data import Dataset, DataLoader\n",
        "from torchvision import models, transforms\n",
        "\n",
        "import json\n",
        "import cv2\n",
        "import numpy as np"
      ],
      "metadata": {
        "id": "6Hvfulprw4F5",
        "execution": {
          "iopub.status.busy": "2024-03-26T05:30:02.619382Z",
          "iopub.execute_input": "2024-03-26T05:30:02.619709Z",
          "iopub.status.idle": "2024-03-26T05:30:08.833458Z",
          "shell.execute_reply.started": "2024-03-26T05:30:02.61968Z",
          "shell.execute_reply": "2024-03-26T05:30:08.832624Z"
        },
        "trusted": true
      },
      "execution_count": 4,
      "outputs": []
    },
    {
      "cell_type": "code",
      "source": [
        "device = torch.device(\"cuda\" if torch.cuda.is_available() else \"cpu\")"
      ],
      "metadata": {
        "id": "5KUNRNtuv3Iz",
        "execution": {
          "iopub.status.busy": "2024-03-26T05:30:08.835178Z",
          "iopub.execute_input": "2024-03-26T05:30:08.835586Z",
          "iopub.status.idle": "2024-03-26T05:30:08.858347Z",
          "shell.execute_reply.started": "2024-03-26T05:30:08.835551Z",
          "shell.execute_reply": "2024-03-26T05:30:08.857448Z"
        },
        "trusted": true
      },
      "execution_count": 5,
      "outputs": []
    },
    {
      "cell_type": "markdown",
      "source": [
        "\n",
        "Create Torch Dataset\n"
      ],
      "metadata": {
        "id": "iISMQ2rvN9Ni"
      }
    },
    {
      "cell_type": "code",
      "source": [
        "class KeypointsDataset(Dataset):\n",
        "    def __init__(self, img_dir, data_file):\n",
        "        self.img_dir = img_dir\n",
        "        with open(data_file, \"r\") as f:\n",
        "            self.data = json.load(f)\n",
        "\n",
        "        self.transforms = transforms.Compose([\n",
        "            transforms.ToPILImage(),\n",
        "            transforms.Resize((224, 224)),\n",
        "            transforms.ToTensor(),\n",
        "            transforms.Normalize(mean=[0.485, 0.456, 0.406], std=[0.229, 0.224, 0.225])\n",
        "        ])\n",
        "\n",
        "    def __len__(self):\n",
        "        return len(self.data)\n",
        "\n",
        "    def __getitem__(self, idx):\n",
        "        item = self.data[idx]\n",
        "        img = cv2.imread(f\"{self.img_dir}/{item['id']}.png\")\n",
        "        h,w = img.shape[:2]\n",
        "\n",
        "        img = cv2.cvtColor(img, cv2.COLOR_BGR2RGB)\n",
        "        img = self.transforms(img)\n",
        "        kps = np.array(item['kps']).flatten()\n",
        "        kps = kps.astype(np.float32)\n",
        "\n",
        "        kps[::2] *= 224.0 / w # Adjust x coordinates\n",
        "        kps[1::2] *= 224.0 / h # Adjust y coordinates\n",
        "\n",
        "        return img, kps"
      ],
      "metadata": {
        "id": "Gm4EonRCN-Yj",
        "execution": {
          "iopub.status.busy": "2024-03-26T05:30:08.859429Z",
          "iopub.execute_input": "2024-03-26T05:30:08.859718Z",
          "iopub.status.idle": "2024-03-26T05:30:08.882642Z",
          "shell.execute_reply.started": "2024-03-26T05:30:08.859695Z",
          "shell.execute_reply": "2024-03-26T05:30:08.881898Z"
        },
        "trusted": true
      },
      "execution_count": 6,
      "outputs": []
    },
    {
      "cell_type": "code",
      "source": [
        "train_dataset = KeypointsDataset(\"../input/dataset/data/images\",\"../input/dataset/data/data_train.json\")\n",
        "val_dataset = KeypointsDataset(\"../input/dataset/data/images\",\"../input/dataset/data/data_val.json\")\n",
        "\n",
        "train_loader = DataLoader(train_dataset, batch_size=8, shuffle=True)\n",
        "val_loader = DataLoader(val_dataset, batch_size=8, shuffle=True)\n"
      ],
      "metadata": {
        "id": "T8SurWAcOC6T",
        "execution": {
          "iopub.status.busy": "2024-03-26T05:30:08.88381Z",
          "iopub.execute_input": "2024-03-26T05:30:08.884162Z",
          "iopub.status.idle": "2024-03-26T05:30:09.347034Z",
          "shell.execute_reply.started": "2024-03-26T05:30:08.884132Z",
          "shell.execute_reply": "2024-03-26T05:30:09.346098Z"
        },
        "trusted": true
      },
      "execution_count": 7,
      "outputs": []
    },
    {
      "cell_type": "code",
      "source": [
        "len(train_dataset)"
      ],
      "metadata": {
        "execution": {
          "iopub.status.busy": "2024-03-26T05:30:09.348293Z",
          "iopub.execute_input": "2024-03-26T05:30:09.34866Z",
          "iopub.status.idle": "2024-03-26T05:30:09.355944Z",
          "shell.execute_reply.started": "2024-03-26T05:30:09.348627Z",
          "shell.execute_reply": "2024-03-26T05:30:09.354943Z"
        },
        "trusted": true,
        "colab": {
          "base_uri": "https://localhost:8080/"
        },
        "id": "8BuhxTdmz2u5",
        "outputId": "6238e3c7-d0f7-4933-c05d-6318e59a1e0e"
      },
      "execution_count": 8,
      "outputs": [
        {
          "output_type": "execute_result",
          "data": {
            "text/plain": [
              "6630"
            ]
          },
          "metadata": {},
          "execution_count": 8
        }
      ]
    },
    {
      "cell_type": "code",
      "source": [
        "len(val_dataset)"
      ],
      "metadata": {
        "execution": {
          "iopub.status.busy": "2024-03-26T05:30:09.359228Z",
          "iopub.execute_input": "2024-03-26T05:30:09.359549Z",
          "iopub.status.idle": "2024-03-26T05:30:09.366645Z",
          "shell.execute_reply.started": "2024-03-26T05:30:09.35952Z",
          "shell.execute_reply": "2024-03-26T05:30:09.36555Z"
        },
        "trusted": true,
        "colab": {
          "base_uri": "https://localhost:8080/"
        },
        "id": "5GpCrjiTz2u6",
        "outputId": "a2aeda9f-5376-4a31-c2ac-0c932e43413b"
      },
      "execution_count": 9,
      "outputs": [
        {
          "output_type": "execute_result",
          "data": {
            "text/plain": [
              "2211"
            ]
          },
          "metadata": {},
          "execution_count": 9
        }
      ]
    },
    {
      "cell_type": "code",
      "source": [
        "def load_checkpoint(filepath):\n",
        "    checkpoint = torch.load(filepath)\n",
        "    modelx = checkpoint['model']\n",
        "    modelx.load_state_dict(checkpoint['state_dict'])\n",
        "    for parameter in modelx.parameters():\n",
        "        parameter.requires_grad = False\n",
        "\n",
        "    modelx.eval()\n",
        "\n",
        "    return modelx"
      ],
      "metadata": {
        "execution": {
          "iopub.status.busy": "2024-03-26T05:30:09.367684Z",
          "iopub.execute_input": "2024-03-26T05:30:09.367947Z",
          "iopub.status.idle": "2024-03-26T05:30:09.374112Z",
          "shell.execute_reply.started": "2024-03-26T05:30:09.367922Z",
          "shell.execute_reply": "2024-03-26T05:30:09.373292Z"
        },
        "trusted": true,
        "id": "usYpKvsUz2u7"
      },
      "execution_count": 10,
      "outputs": []
    },
    {
      "cell_type": "code",
      "source": [
        "# Option 1: passing weights param as string\n",
        "#model = torch.hub.load(\"pytorch/vision\", \"resnet50\", weights=\"IMAGENET1K_V2\")\n",
        "filepath='/kaggle/input/model123/resnet50-0676ba61.pth'\n",
        "model = models.resnet50()\n",
        "model.load_state_dict(torch.load(filepath))"
      ],
      "metadata": {
        "id": "Cx1hQzioOJSz",
        "execution": {
          "iopub.status.busy": "2024-03-26T05:30:09.375251Z",
          "iopub.execute_input": "2024-03-26T05:30:09.37551Z",
          "iopub.status.idle": "2024-03-26T05:30:11.25002Z",
          "shell.execute_reply.started": "2024-03-26T05:30:09.37549Z",
          "shell.execute_reply": "2024-03-26T05:30:11.248131Z"
        },
        "trusted": true,
        "colab": {
          "base_uri": "https://localhost:8080/"
        },
        "outputId": "600681f0-8e05-441e-caed-384e186f7979"
      },
      "execution_count": 11,
      "outputs": [
        {
          "output_type": "execute_result",
          "data": {
            "text/plain": [
              "<All keys matched successfully>"
            ]
          },
          "metadata": {},
          "execution_count": 11
        }
      ]
    },
    {
      "cell_type": "code",
      "source": [
        "model.fc =  torch.nn.Linear(model.fc.in_features, 14*2) # Replaces the last layer"
      ],
      "metadata": {
        "execution": {
          "iopub.status.busy": "2024-03-26T05:30:11.251164Z",
          "iopub.execute_input": "2024-03-26T05:30:11.251508Z",
          "iopub.status.idle": "2024-03-26T05:30:11.257969Z",
          "shell.execute_reply.started": "2024-03-26T05:30:11.251478Z",
          "shell.execute_reply": "2024-03-26T05:30:11.257033Z"
        },
        "trusted": true,
        "id": "K1NKRdZ0z2u8"
      },
      "execution_count": 12,
      "outputs": []
    },
    {
      "cell_type": "code",
      "source": [
        "model = model.to(device)\n",
        "criterion = torch.nn.MSELoss()\n",
        "optimizer = torch.optim.Adam(model.parameters(), lr=1e-4)"
      ],
      "metadata": {
        "id": "UR6mQFtLONra",
        "execution": {
          "iopub.status.busy": "2024-03-26T05:30:11.259176Z",
          "iopub.execute_input": "2024-03-26T05:30:11.259755Z",
          "iopub.status.idle": "2024-03-26T05:30:11.44805Z",
          "shell.execute_reply.started": "2024-03-26T05:30:11.259725Z",
          "shell.execute_reply": "2024-03-26T05:30:11.447205Z"
        },
        "trusted": true
      },
      "execution_count": 13,
      "outputs": []
    },
    {
      "cell_type": "code",
      "source": [
        "import numpy"
      ],
      "metadata": {
        "execution": {
          "iopub.status.busy": "2024-03-26T05:30:11.449215Z",
          "iopub.execute_input": "2024-03-26T05:30:11.449552Z",
          "iopub.status.idle": "2024-03-26T05:30:11.454048Z",
          "shell.execute_reply.started": "2024-03-26T05:30:11.449523Z",
          "shell.execute_reply": "2024-03-26T05:30:11.453141Z"
        },
        "trusted": true,
        "id": "TfTFcUMcz2u9"
      },
      "execution_count": 14,
      "outputs": []
    },
    {
      "cell_type": "code",
      "source": [
        "epochs=20\n",
        "for epoch in range(epochs):\n",
        "    total_correct = 0\n",
        "    total_samples = 0\n",
        "    for i, (imgs,kps) in enumerate(train_loader):\n",
        "        imgs = imgs.to(device)\n",
        "        kps = kps.to(device)\n",
        "\n",
        "        optimizer.zero_grad()\n",
        "        outputs = model(imgs)\n",
        "        predicted = torch.argmax(outputs, dim=1)\n",
        "        loss = criterion(outputs, kps)\n",
        "#         # Update the running total of correct predictions and samples\n",
        "#         correct_predictions = sum(predicted == kps[0:]).item()\n",
        "#         total_correct += correct_predictions\n",
        "#         total_samples += kps.size(0)\n",
        "#         # Calculate the accuracy for this epoch\n",
        "#         accuracy = 100 * total_correct / total_samples\n",
        "#  print(f'Epoch {epoch+1}: Accuracy = {accuracy:.2f}%')\n",
        "        loss.backward()\n",
        "\n",
        "        optimizer.step()\n",
        "\n",
        "\n",
        "        if i % 10 == 0:\n",
        "            print(f\"Epoch {epoch}, iter {i}, loss: {loss.item()}\")\n",
        "\n"
      ],
      "metadata": {
        "id": "o0Q4fs-YOUTB",
        "execution": {
          "iopub.status.busy": "2024-03-26T05:30:11.455012Z",
          "iopub.execute_input": "2024-03-26T05:30:11.455262Z",
          "iopub.status.idle": "2024-03-26T06:34:49.967981Z",
          "shell.execute_reply.started": "2024-03-26T05:30:11.45524Z",
          "shell.execute_reply": "2024-03-26T06:34:49.966972Z"
        },
        "trusted": true,
        "colab": {
          "base_uri": "https://localhost:8080/"
        },
        "outputId": "0cc6e09a-6870-4514-ca4d-8dc1552e6595"
      },
      "execution_count": null,
      "outputs": [
        {
          "output_type": "stream",
          "name": "stdout",
          "text": [
            "Epoch 0, iter 0, loss: 14452.123046875\n",
            "Epoch 0, iter 10, loss: 14748.5390625\n",
            "Epoch 0, iter 20, loss: 15438.3076171875\n",
            "Epoch 0, iter 30, loss: 14621.904296875\n",
            "Epoch 0, iter 40, loss: 13971.884765625\n",
            "Epoch 0, iter 50, loss: 13360.0810546875\n",
            "Epoch 0, iter 60, loss: 12999.853515625\n",
            "Epoch 0, iter 70, loss: 11946.5419921875\n",
            "Epoch 0, iter 80, loss: 11657.8330078125\n",
            "Epoch 0, iter 90, loss: 11536.166015625\n",
            "Epoch 0, iter 100, loss: 10808.859375\n",
            "Epoch 0, iter 110, loss: 11435.7607421875\n",
            "Epoch 0, iter 120, loss: 10577.14453125\n",
            "Epoch 0, iter 130, loss: 10597.7001953125\n",
            "Epoch 0, iter 140, loss: 8608.333984375\n",
            "Epoch 0, iter 150, loss: 9222.1552734375\n",
            "Epoch 0, iter 160, loss: 8492.0966796875\n"
          ]
        }
      ]
    },
    {
      "cell_type": "code",
      "source": [
        "torch.save(model, \"keypoints_model.pth\")"
      ],
      "metadata": {
        "id": "LOpFwBIvOVUZ",
        "execution": {
          "iopub.status.busy": "2024-03-26T06:47:31.400493Z",
          "iopub.execute_input": "2024-03-26T06:47:31.400868Z",
          "iopub.status.idle": "2024-03-26T06:47:31.577939Z",
          "shell.execute_reply.started": "2024-03-26T06:47:31.400837Z",
          "shell.execute_reply": "2024-03-26T06:47:31.576899Z"
        },
        "trusted": true
      },
      "execution_count": null,
      "outputs": []
    }
  ]
}